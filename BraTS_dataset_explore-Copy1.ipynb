{
 "cells": [
  {
   "cell_type": "code",
   "execution_count": 40,
   "metadata": {},
   "outputs": [
    {
     "name": "stderr",
     "output_type": "stream",
     "text": [
      "100%|█████████████████████████████████████████████████████████████████████████████████████████████████████████████████████████████████████████████████████████████████████████████| 1/1 [00:44<00:00, 44.17s/it]\n"
     ]
    }
   ],
   "source": [
    "import itk\n",
    "import os\n",
    "import icon_registration\n",
    "import icon_registration.pretrained_models\n",
    "import icon_registration.itk_wrapper\n",
    "import monai\n",
    "import icon_registration.monai_wrapper as mw\n",
    "import pandas as pd\n",
    "\n",
    "\n",
    "import numpy as np\n",
    "\n",
    "data_folder = \"/playpen-raid2/lin.tian/data/BraTS-Reg/BraTSReg_Training_Data_v3\"\n",
    "case_list = os.listdir(data_folder)\n",
    "case_list = list(filter(lambda x: \"BraTS\" in x.split(\"/\")[-1], case_list))\n",
    "\n",
    "mtres = []\n",
    "losses = []\n",
    "import tqdm\n",
    "model = icon_registration.pretrained_models.brain_registration_model(\n",
    "        pretrained=True\n",
    "        )\n",
    "\n",
    "#model.similarity = mw.FirstChannelInputs(monai.losses.GlobalMutualInformationLoss())\n",
    "for case_path in tqdm.tqdm(case_list[-1:]):\n",
    "    file_list = os.listdir(f\"{data_folder}/{case_path}\")\n",
    "    source_list = list(filter(lambda x: (\"_00_\" in x) and (\"t1.nii\" in x), file_list))\n",
    "    target_list = list(filter(lambda x: (\"_01_\" in x) and (\"t1.nii\" in x), file_list))\n",
    "    image_A = itk.imread(f\"{data_folder}/{case_path}/{source_list[0]}\")\n",
    "    image_B = itk.imread(f\"{data_folder}/{case_path}/{target_list[0]}\")\n",
    "    source_landmarks = pd.read_csv(\n",
    "        f\"{data_folder}/{case_path}/{[f for f in file_list if '_00_' in f and 'landmarks' in f][0]}\"\n",
    "    ).values[:, 1:]\n",
    "    target_landmarks = pd.read_csv(\n",
    "        f\"{data_folder}/{case_path}/{[f for f in file_list if '_01_' in f and 'landmarks' in f][0]}\"\n",
    "    ).values[:, 1:]\n",
    "\n",
    "\n",
    "    image_A_processed = icon_registration.pretrained_models.brain_network_preprocess(\n",
    "            image_A\n",
    "        )\n",
    "\n",
    "    image_B_processed = icon_registration.pretrained_models.brain_network_preprocess(\n",
    "        image_B\n",
    "    )\n",
    "\n",
    "\n",
    "    phi_AB, phi_BA, loss = icon_registration.itk_wrapper.register_pair(\n",
    "            model, image_A_processed, image_B_processed, finetune_steps=50, return_artifacts=True\n",
    "        )\n",
    "\n",
    "    warped_target_landmarks = np.array([list(phi_AB.TransformPoint(t)) for t in target_landmarks * 1.0])\n",
    "\n",
    "    mtres.append(np.sqrt(np.sum((source_landmarks - warped_target_landmarks)**2, axis=1)).mean())\n",
    "\n"
   ]
  },
  {
   "cell_type": "code",
   "execution_count": 45,
   "metadata": {},
   "outputs": [
    {
     "data": {
      "text/plain": [
       "2.7316132167766076"
      ]
     },
     "execution_count": 45,
     "metadata": {},
     "output_type": "execute_result"
    }
   ],
   "source": [
    "np.mean(mtres)"
   ]
  },
  {
   "cell_type": "code",
   "execution_count": 46,
   "metadata": {},
   "outputs": [
    {
     "data": {
      "text/plain": [
       "2.7316132167766076"
      ]
     },
     "execution_count": 46,
     "metadata": {},
     "output_type": "execute_result"
    }
   ],
   "source": [
    "np.mean(mtres)"
   ]
  },
  {
   "cell_type": "code",
   "execution_count": 47,
   "metadata": {},
   "outputs": [
    {
     "data": {
      "text/plain": [
       "[2.7316132167766076]"
      ]
     },
     "execution_count": 47,
     "metadata": {},
     "output_type": "execute_result"
    }
   ],
   "source": [
    "mtres"
   ]
  },
  {
   "cell_type": "code",
   "execution_count": 48,
   "metadata": {},
   "outputs": [
    {
     "ename": "SyntaxError",
     "evalue": "invalid syntax (2242379696.py, line 1)",
     "output_type": "error",
     "traceback": [
      "\u001b[0;36m  Input \u001b[0;32mIn [48]\u001b[0;36m\u001b[0m\n\u001b[0;31m    validation: 3.1489 mm\u001b[0m\n\u001b[0m                       ^\u001b[0m\n\u001b[0;31mSyntaxError\u001b[0m\u001b[0;31m:\u001b[0m invalid syntax\n"
     ]
    }
   ],
   "source": [
    "validation: 3.1489 mm"
   ]
  },
  {
   "cell_type": "code",
   "execution_count": 49,
   "metadata": {},
   "outputs": [
    {
     "data": {
      "text/plain": [
       "[2.7316132167766076]"
      ]
     },
     "execution_count": 49,
     "metadata": {},
     "output_type": "execute_result"
    }
   ],
   "source": [
    "mtres"
   ]
  },
  {
   "cell_type": "code",
   "execution_count": 50,
   "metadata": {},
   "outputs": [
    {
     "data": {
      "text/plain": [
       "0.14285714285714285"
      ]
     },
     "execution_count": 50,
     "metadata": {},
     "output_type": "execute_result"
    }
   ],
   "source": [
    "20 / 140"
   ]
  },
  {
   "cell_type": "code",
   "execution_count": 51,
   "metadata": {},
   "outputs": [
    {
     "data": {
      "text/plain": [
       "ICONLoss(all_loss=1.3396021127700806, inverse_consistency_loss=0.00992486160248518, similarity_loss=1.3247147798538208, transform_magnitude=0.00013648413005284965, flips=168.0)"
      ]
     },
     "execution_count": 51,
     "metadata": {},
     "output_type": "execute_result"
    }
   ],
   "source": [
    "loss"
   ]
  },
  {
   "cell_type": "code",
   "execution_count": null,
   "metadata": {},
   "outputs": [],
   "source": []
  }
 ],
 "metadata": {
  "kernelspec": {
   "display_name": "Python 3 (ipykernel)",
   "language": "python",
   "name": "python3"
  },
  "language_info": {
   "codemirror_mode": {
    "name": "ipython",
    "version": 3
   },
   "file_extension": ".py",
   "mimetype": "text/x-python",
   "name": "python",
   "nbconvert_exporter": "python",
   "pygments_lexer": "ipython3",
   "version": "3.9.0"
  },
  "vscode": {
   "interpreter": {
    "hash": "f4b7dfd2b1946ef4e9efd933fcfa25c499e2728f16ec59a8577b210912c2565c"
   }
  }
 },
 "nbformat": 4,
 "nbformat_minor": 2
}
